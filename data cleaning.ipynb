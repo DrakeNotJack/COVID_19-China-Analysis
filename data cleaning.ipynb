{
 "cells": [
  {
   "cell_type": "code",
   "execution_count": 10,
   "id": "c81bffbf-1f22-4a30-95a8-230d351e6c35",
   "metadata": {},
   "outputs": [
    {
     "data": {
      "text/html": [
       "<div>\n",
       "<style scoped>\n",
       "    .dataframe tbody tr th:only-of-type {\n",
       "        vertical-align: middle;\n",
       "    }\n",
       "\n",
       "    .dataframe tbody tr th {\n",
       "        vertical-align: top;\n",
       "    }\n",
       "\n",
       "    .dataframe thead th {\n",
       "        text-align: right;\n",
       "    }\n",
       "</style>\n",
       "<table border=\"1\" class=\"dataframe\">\n",
       "  <thead>\n",
       "    <tr style=\"text-align: right;\">\n",
       "      <th></th>\n",
       "      <th>Country_Region</th>\n",
       "      <th>Last_Update</th>\n",
       "      <th>Confirmed</th>\n",
       "      <th>Deaths</th>\n",
       "      <th>Recovered</th>\n",
       "      <th>Date</th>\n",
       "    </tr>\n",
       "  </thead>\n",
       "  <tbody>\n",
       "    <tr>\n",
       "      <th>0</th>\n",
       "      <td>China</td>\n",
       "      <td>2021-01-02</td>\n",
       "      <td>102649</td>\n",
       "      <td>4783</td>\n",
       "      <td>90031.0</td>\n",
       "      <td>2021-01-01</td>\n",
       "    </tr>\n",
       "    <tr>\n",
       "      <th>1</th>\n",
       "      <td>China</td>\n",
       "      <td>2021-01-03</td>\n",
       "      <td>102731</td>\n",
       "      <td>4784</td>\n",
       "      <td>90099.0</td>\n",
       "      <td>2021-01-02</td>\n",
       "    </tr>\n",
       "    <tr>\n",
       "      <th>2</th>\n",
       "      <td>China</td>\n",
       "      <td>2021-01-04</td>\n",
       "      <td>102808</td>\n",
       "      <td>4784</td>\n",
       "      <td>90159.0</td>\n",
       "      <td>2021-01-03</td>\n",
       "    </tr>\n",
       "    <tr>\n",
       "      <th>3</th>\n",
       "      <td>China</td>\n",
       "      <td>2021-01-05</td>\n",
       "      <td>102930</td>\n",
       "      <td>4785</td>\n",
       "      <td>90213.0</td>\n",
       "      <td>2021-01-04</td>\n",
       "    </tr>\n",
       "    <tr>\n",
       "      <th>4</th>\n",
       "      <td>China</td>\n",
       "      <td>2021-01-06</td>\n",
       "      <td>103026</td>\n",
       "      <td>4787</td>\n",
       "      <td>90306.0</td>\n",
       "      <td>2021-01-05</td>\n",
       "    </tr>\n",
       "  </tbody>\n",
       "</table>\n",
       "</div>"
      ],
      "text/plain": [
       "  Country_Region Last_Update  Confirmed  Deaths  Recovered        Date\n",
       "0          China  2021-01-02     102649    4783    90031.0  2021-01-01\n",
       "1          China  2021-01-03     102731    4784    90099.0  2021-01-02\n",
       "2          China  2021-01-04     102808    4784    90159.0  2021-01-03\n",
       "3          China  2021-01-05     102930    4785    90213.0  2021-01-04\n",
       "4          China  2021-01-06     103026    4787    90306.0  2021-01-05"
      ]
     },
     "execution_count": 10,
     "metadata": {},
     "output_type": "execute_result"
    }
   ],
   "source": [
    "import datetime\n",
    "import pandas as pd\n",
    "\n",
    "#Create a empty dataframe for combining all csvs\n",
    "integrate_df = pd.DataFrame()\n",
    "\n",
    "#Define start date and end date, which is the date range of the datasource\n",
    "start = datetime.date(2021, 1, 1)\n",
    "end = datetime.date(2023, 3, 9)\n",
    "res_date = start\n",
    "\n",
    "#loop each date within the range to extract the csv for the day, and do data cleaning\n",
    "while res_date <= end:\n",
    "    #print(res_date)\n",
    "    #Turn the datetime object into string for url concatenation\n",
    "    string_date = res_date.strftime(\"%m-%d-%Y\")\n",
    "    \n",
    "    #url of github raw content\n",
    "    url = \"https://raw.githubusercontent.com/CSSEGISandData/COVID-19/master/csse_covid_19_data/csse_covid_19_daily_reports/\" + string_date + \".csv\"\n",
    "    # print(url)\n",
    "    \n",
    "    #Add 1 day to retrieve the next day's data\n",
    "    res_date += datetime.timedelta(days=1)\n",
    "\n",
    "#Data cleaning of csv for each day\n",
    "    #Read csv file\n",
    "    df1 = pd.read_csv(url)#.fillna(0) Since there is no NaN data, fillna function is commented\n",
    "    \n",
    "    #Only select columns that are needed, and extract China only\n",
    "    df2 = df1[df1[\"Country_Region\"] == \"China\"][[\"Country_Region\", \"Last_Update\",\"Confirmed\",\"Deaths\",\"Recovered\"]]\n",
    "    \n",
    "    #Group by country to obtain the overall data of China\n",
    "    df = df2.groupby(['Country_Region','Last_Update'], as_index = False).agg('sum')\n",
    "    \n",
    "    #Modify the date format for analysis\n",
    "    df['Last_Update'] = pd.to_datetime(df['Last_Update'])\n",
    "    #Why df['Last_Update'] = pd.to_datetime(df['Last_Update'],format='%Y-%m-%d') would encounter error?\n",
    "\n",
    "    df['Date'] = df['Last_Update'] - pd.Timedelta(1,\"d\")\n",
    "\n",
    "    #Format the dates\n",
    "    df['Last_Update'] = df['Last_Update'].dt.strftime('%Y-%m-%d')\n",
    "    df['Date'] = df['Date'].dt.strftime('%Y-%m-%d')\n",
    "\n",
    "    #Concat the csv files together\n",
    "    integrate_df = pd.concat([integrate_df, df], ignore_index=True)\n",
    "\n",
    "#Drop duplicates\n",
    "integrate_df.drop_duplicates(subset = ['Date'],inplace = True)\n",
    "integrate_df.reset_index()\n",
    "    \n",
    "\n",
    "integrate_df.head()\n",
    "  \n",
    "    "
   ]
  },
  {
   "cell_type": "code",
   "execution_count": 5,
   "id": "2542ce88-e299-4794-a07f-dd78e34c0b93",
   "metadata": {},
   "outputs": [
    {
     "data": {
      "text/plain": [
       "<bound method DataFrame.info of     Country_Region Last_Update  Confirmed  Deaths  Recovered\n",
       "0            China  2021-01-02     102649    4783    90031.0\n",
       "1            China  2021-01-03     102731    4784    90099.0\n",
       "2            China  2021-01-04     102808    4784    90159.0\n",
       "3            China  2021-01-05     102930    4785    90213.0\n",
       "4            China  2021-01-06     103026    4787    90306.0\n",
       "..             ...         ...        ...     ...        ...\n",
       "793          China  2023-03-06    4903524  101054        0.0\n",
       "794          China  2023-03-07    4903524  101055        0.0\n",
       "795          China  2023-03-08    4903524  101055        0.0\n",
       "796          China  2023-03-09    4903524  101055        0.0\n",
       "797          China  2023-03-10    4903524  101056        0.0\n",
       "\n",
       "[798 rows x 5 columns]>"
      ]
     },
     "execution_count": 5,
     "metadata": {},
     "output_type": "execute_result"
    }
   ],
   "source": [
    "integrate_df.info"
   ]
  },
  {
   "cell_type": "code",
   "execution_count": 9,
   "id": "460c20a9-9345-4681-a32a-44d3ef39184c",
   "metadata": {},
   "outputs": [
    {
     "name": "stdout",
     "output_type": "stream",
     "text": [
      "<class 'pandas.core.frame.DataFrame'>\n",
      "RangeIndex: 798 entries, 0 to 797\n",
      "Data columns (total 5 columns):\n",
      " #   Column          Non-Null Count  Dtype  \n",
      "---  ------          --------------  -----  \n",
      " 0   Country_Region  798 non-null    object \n",
      " 1   Last_Update     798 non-null    object \n",
      " 2   Confirmed       798 non-null    int64  \n",
      " 3   Deaths          798 non-null    int64  \n",
      " 4   Recovered       798 non-null    float64\n",
      "dtypes: float64(1), int64(2), object(2)\n",
      "memory usage: 31.3+ KB\n"
     ]
    }
   ],
   "source": [
    "integrate_df.info(verbose=True)"
   ]
  },
  {
   "cell_type": "code",
   "execution_count": null,
   "id": "300a0123-bd87-445f-afcb-1bbc4256d1da",
   "metadata": {},
   "outputs": [],
   "source": []
  }
 ],
 "metadata": {
  "kernelspec": {
   "display_name": "Python 3 (ipykernel)",
   "language": "python",
   "name": "python3"
  },
  "language_info": {
   "codemirror_mode": {
    "name": "ipython",
    "version": 3
   },
   "file_extension": ".py",
   "mimetype": "text/x-python",
   "name": "python",
   "nbconvert_exporter": "python",
   "pygments_lexer": "ipython3",
   "version": "3.11.7"
  }
 },
 "nbformat": 4,
 "nbformat_minor": 5
}
